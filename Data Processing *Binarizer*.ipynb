{
 "cells": [
  {
   "cell_type": "markdown",
   "metadata": {},
   "source": [
    "Data Pre-Processing using a Binarizer"
   ]
  },
  {
   "cell_type": "code",
   "execution_count": 1,
   "metadata": {},
   "outputs": [
    {
     "name": "stdout",
     "output_type": "stream",
     "text": [
      "[[1. 1. 1. 1. 0. 1. 0. 1.]\n",
      " [0. 1. 1. 1. 0. 1. 0. 1.]\n",
      " [1. 1. 1. 0. 0. 1. 0. 1.]\n",
      " [0. 1. 1. 1. 1. 1. 0. 1.]\n",
      " [0. 1. 1. 1. 1. 1. 1. 1.]]\n"
     ]
    }
   ],
   "source": [
    "# Import all neccessary libraries\n",
    "import pandas as pd\n",
    "from numpy import set_printoptions\n",
    "from sklearn.preprocessing import Binarizer\n",
    "\n",
    "\n",
    "# Step one : Import the data\n",
    "dataFileName = \"diabete-data.csv\"\n",
    "columnNames = [\"Pregnant\",\"Plasma\",\"bPedia\",\"Test\",\"Skin\",\"Bmass\",\"Diastolic\",\"Age\",\"Class\"]\n",
    "readData = pd.read_csv(dataFileName, names = columnNames)\n",
    "array = readData.values\n",
    "\n",
    "# Step two : Split the data into input and output\n",
    "inputData = array[:,0:8]\n",
    "outputData = array[:,8]\n",
    "\n",
    "# Step three : Apply the preprocessing transformation\n",
    "rescaler = Binarizer(threshold = 1.0).fit(inputData)\n",
    "rescaledInputData = rescaler.transform(inputData) \n",
    "\n",
    "# Step four : Summarize the data and display\n",
    "set_printoptions(precision=3)\n",
    "print(rescaledInputData[0:5,:])"
   ]
  }
 ],
 "metadata": {
  "kernelspec": {
   "display_name": "Python 3",
   "language": "python",
   "name": "python3"
  },
  "language_info": {
   "codemirror_mode": {
    "name": "ipython",
    "version": 3
   },
   "file_extension": ".py",
   "mimetype": "text/x-python",
   "name": "python",
   "nbconvert_exporter": "python",
   "pygments_lexer": "ipython3",
   "version": "3.7.6"
  }
 },
 "nbformat": 4,
 "nbformat_minor": 4
}
