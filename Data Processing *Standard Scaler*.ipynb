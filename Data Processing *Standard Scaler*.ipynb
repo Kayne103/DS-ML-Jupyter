{
 "cells": [
  {
   "cell_type": "markdown",
   "metadata": {},
   "source": [
    "Data Pre-Processing using standard scaler"
   ]
  },
  {
   "cell_type": "code",
   "execution_count": 3,
   "metadata": {},
   "outputs": [
    {
     "name": "stdout",
     "output_type": "stream",
     "text": [
      "[[ 0.64   0.848  0.15   0.907 -0.693  0.204  0.468  1.426]\n",
      " [-0.845 -1.123 -0.161  0.531 -0.693 -0.684 -0.365 -0.191]\n",
      " [ 1.234  1.944 -0.264 -1.288 -0.693 -1.103  0.604 -0.106]\n",
      " [-0.845 -0.998 -0.161  0.155  0.123 -0.494 -0.921 -1.042]\n",
      " [-1.142  0.504 -1.505  0.907  0.766  1.41   5.485 -0.02 ]]\n"
     ]
    }
   ],
   "source": [
    "# Import all neccessary libraries\n",
    "import pandas as pd\n",
    "from numpy import set_printoptions\n",
    "from sklearn.preprocessing import StandardScaler\n",
    "\n",
    "\n",
    "# Step one : Import the data\n",
    "dataFileName = \"diabete-data.csv\"\n",
    "columnNames = [\"Pregnant\",\"Plasma\",\"bPedia\",\"Test\",\"Skin\",\"Bmass\",\"Diastolic\",\"Age\",\"Class\"]\n",
    "readData = pd.read_csv(dataFileName, names = columnNames)\n",
    "array = readData.values\n",
    "\n",
    "# Step two : Split the data into input and output\n",
    "inputData = array[:,0:8]\n",
    "outputData = array[:,8]\n",
    "\n",
    "# Step three : Apply the preprocessing transformation\n",
    "rescaler = StandardScaler().fit(inputData)\n",
    "rescaledInputData = rescaler.transform(inputData) \n",
    "\n",
    "# Step four : Summarize the data and display\n",
    "set_printoptions(precision=3)\n",
    "print(rescaledInputData[0:5,:])\n",
    "\n",
    "\n",
    "\n"
   ]
  },
  {
   "cell_type": "code",
   "execution_count": null,
   "metadata": {},
   "outputs": [],
   "source": []
  }
 ],
 "metadata": {
  "kernelspec": {
   "display_name": "Python 3",
   "language": "python",
   "name": "python3"
  },
  "language_info": {
   "codemirror_mode": {
    "name": "ipython",
    "version": 3
   },
   "file_extension": ".py",
   "mimetype": "text/x-python",
   "name": "python",
   "nbconvert_exporter": "python",
   "pygments_lexer": "ipython3",
   "version": "3.7.6"
  }
 },
 "nbformat": 4,
 "nbformat_minor": 4
}
