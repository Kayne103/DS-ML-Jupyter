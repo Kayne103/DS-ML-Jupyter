{
 "cells": [
  {
   "cell_type": "markdown",
   "metadata": {},
   "source": [
    "Data Pre-Processing using a normalizer"
   ]
  },
  {
   "cell_type": "code",
   "execution_count": 1,
   "metadata": {},
   "outputs": [
    {
     "name": "stdout",
     "output_type": "stream",
     "text": [
      "[[0.034 0.828 0.403 0.196 0.    0.188 0.004 0.28 ]\n",
      " [0.008 0.716 0.556 0.244 0.    0.224 0.003 0.261]\n",
      " [0.04  0.924 0.323 0.    0.    0.118 0.003 0.162]\n",
      " [0.007 0.588 0.436 0.152 0.622 0.186 0.001 0.139]\n",
      " [0.    0.596 0.174 0.152 0.731 0.188 0.01  0.144]]\n"
     ]
    }
   ],
   "source": [
    "# Import all neccessary libraries\n",
    "import pandas as pd\n",
    "from numpy import set_printoptions\n",
    "from sklearn.preprocessing import Normalizer\n",
    "\n",
    "\n",
    "# Step one : Import the data\n",
    "dataFileName = \"diabete-data.csv\"\n",
    "columnNames = [\"Pregnant\",\"Plasma\",\"bPedia\",\"Test\",\"Skin\",\"Bmass\",\"Diastolic\",\"Age\",\"Class\"]\n",
    "readData = pd.read_csv(dataFileName, names = columnNames)\n",
    "array = readData.values\n",
    "\n",
    "# Step two : Split the data into input and output\n",
    "inputData = array[:,0:8]\n",
    "outputData = array[:,8]\n",
    "\n",
    "# Step three : Apply the preprocessing transformation\n",
    "rescaler = Normalizer().fit(inputData)\n",
    "rescaledInputData = rescaler.transform(inputData) \n",
    "\n",
    "# Step four : Summarize the data and display\n",
    "set_printoptions(precision=3)\n",
    "print(rescaledInputData[0:5,:])\n",
    "\n",
    "\n",
    "\n",
    "\n",
    "\n"
   ]
  }
 ],
 "metadata": {
  "kernelspec": {
   "display_name": "Python 3",
   "language": "python",
   "name": "python3"
  },
  "language_info": {
   "codemirror_mode": {
    "name": "ipython",
    "version": 3
   },
   "file_extension": ".py",
   "mimetype": "text/x-python",
   "name": "python",
   "nbconvert_exporter": "python",
   "pygments_lexer": "ipython3",
   "version": "3.7.6"
  }
 },
 "nbformat": 4,
 "nbformat_minor": 4
}
